{
 "cells": [
  {
   "cell_type": "raw",
   "metadata": {},
   "source": [
    "# Basics of numpy (sufficient for the implementation)"
   ]
  },
  {
   "cell_type": "markdown",
   "metadata": {},
   "source": [
    "**What is numpy**? (talk)"
   ]
  },
  {
   "cell_type": "markdown",
   "metadata": {},
   "source": [
    "**Let's do some coding **  \n",
    "I'll be providing the list of numpy functions that i am going to show"
   ]
  },
  {
   "cell_type": "code",
   "execution_count": 1,
   "metadata": {},
   "outputs": [],
   "source": [
    "import numpy as np #import the package"
   ]
  },
  {
   "cell_type": "markdown",
   "metadata": {},
   "source": [
    "## Arrays and operation on them"
   ]
  },
  {
   "cell_type": "code",
   "execution_count": 3,
   "metadata": {},
   "outputs": [
    {
     "name": "stdout",
     "output_type": "stream",
     "text": [
      "[]\n"
     ]
    }
   ],
   "source": [
    "\n",
    "#create an empty array\n",
    "emptyArr = np.array([])\n",
    "print (emptyArr)"
   ]
  },
  {
   "cell_type": "code",
   "execution_count": 4,
   "metadata": {},
   "outputs": [
    {
     "name": "stdout",
     "output_type": "stream",
     "text": [
      "[1.]\n",
      "[1. 2. 3.]\n"
     ]
    }
   ],
   "source": [
    "#lets append some values\n",
    "arr = np.append(emptyArr,1)\n",
    "print (arr)\n",
    "arr = np.append(arr,2)\n",
    "arr = np.append(arr,3)\n",
    "print (arr)"
   ]
  },
  {
   "cell_type": "code",
   "execution_count": 5,
   "metadata": {},
   "outputs": [
    {
     "name": "stdout",
     "output_type": "stream",
     "text": [
      "[1. 2. 3.]\n",
      "shape is\n",
      "(3,)\n"
     ]
    }
   ],
   "source": [
    "#now check the dimension of the array\n",
    "print (arr)\n",
    "print (\"shape is\")\n",
    "print (arr.shape)"
   ]
  },
  {
   "cell_type": "code",
   "execution_count": 6,
   "metadata": {},
   "outputs": [
    {
     "name": "stdout",
     "output_type": "stream",
     "text": [
      "sum is 6.0\n",
      "sqrt is [1.         1.41421356 1.73205081]\n"
     ]
    }
   ],
   "source": [
    "#let's do some maths operation on our array\n",
    "#calcualte the sum\n",
    "total = np.sum(arr)\n",
    "print (\"sum is \"+ str(total))\n",
    "\n",
    "#square root of individual elemets\n",
    "sqr = np.sqrt(arr)\n",
    "print (\"sqrt is\" , end =' ')\n",
    "print (sqr)"
   ]
  },
  {
   "cell_type": "markdown",
   "metadata": {},
   "source": [
    "## Operation between two 1d arrays"
   ]
  },
  {
   "cell_type": "code",
   "execution_count": 8,
   "metadata": {},
   "outputs": [
    {
     "name": "stdout",
     "output_type": "stream",
     "text": [
      "[1 2 3 4 5]\n",
      "[ 6  7  8  9 10]\n"
     ]
    }
   ],
   "source": [
    "#create two arrays using another way\n",
    "ar1 = [1,2,3,4,5]\n",
    "ar2 = [6,7,8,9,10]\n",
    "# now make the numpy array\n",
    "arr1 = np.array(ar1)\n",
    "arr2 = np.array(ar2)\n",
    "print (arr1)\n",
    "print (arr2)"
   ]
  },
  {
   "cell_type": "code",
   "execution_count": 9,
   "metadata": {},
   "outputs": [
    {
     "name": "stdout",
     "output_type": "stream",
     "text": [
      "addition is [ 7  9 11 13 15]\n",
      "substraction is [-5 -5 -5 -5 -5]\n",
      "product is [ 6 14 24 36 50]\n",
      "product is 2nd time [ 6 14 24 36 50]\n"
     ]
    }
   ],
   "source": [
    "#let's to vector operation \n",
    "#add the two vector\n",
    "add = np.add(arr1,arr2)\n",
    "print (\"addition is\" , end=\" \")\n",
    "print (add)\n",
    "\n",
    "#substract the two vector\n",
    "sub = np.subtract(arr1,arr2)\n",
    "print (\"substraction is\" , end = \" \")\n",
    "print (sub)\n",
    "\n",
    "#take the element wise multiplcation\n",
    "prod = np.multiply(arr1, arr2)\n",
    "print (\"product is\", end = \" \")\n",
    "print (prod)\n",
    "#or\n",
    "prod = arr1 * arr2\n",
    "print (\"product is 2nd time\", end = \" \") \n",
    "print (prod)"
   ]
  },
  {
   "cell_type": "markdown",
   "metadata": {},
   "source": [
    "##Generating arrays automatically"
   ]
  },
  {
   "cell_type": "code",
   "execution_count": 10,
   "metadata": {},
   "outputs": [
    {
     "name": "stdout",
     "output_type": "stream",
     "text": [
      "[0. 0. 0. 0.]\n",
      "[1. 1. 1. 1. 1. 1. 1.]\n"
     ]
    }
   ],
   "source": [
    "#generate array of zeros\n",
    "zeros = np.zeros(4) # take the dimension of array you want to create\n",
    "print (zeros)\n",
    "\n",
    "ones = np.ones(7)\n",
    "print (ones)"
   ]
  },
  {
   "cell_type": "markdown",
   "metadata": {},
   "source": [
    "#Let's go 2d"
   ]
  },
  {
   "cell_type": "code",
   "execution_count": 11,
   "metadata": {},
   "outputs": [
    {
     "name": "stdout",
     "output_type": "stream",
     "text": [
      "[[0. 0. 0. 0.]\n",
      " [0. 0. 0. 0.]\n",
      " [0. 0. 0. 0.]\n",
      " [0. 0. 0. 0.]]\n",
      "(4, 4)\n"
     ]
    }
   ],
   "source": [
    "#creates 2d matrix of zeros\n",
    "zeros = np.zeros((4,4))\n",
    "print (zeros)\n",
    "print (zeros.shape)"
   ]
  },
  {
   "cell_type": "code",
   "execution_count": 12,
   "metadata": {},
   "outputs": [
    {
     "name": "stdout",
     "output_type": "stream",
     "text": [
      "[[2 9 1 3]\n",
      " [6 1 6 7]\n",
      " [9 2 3 2]\n",
      " [8 1 8 1]]\n",
      "\n",
      "array2\n",
      "\n",
      "[[8 5 5 5]\n",
      " [9 9 7 9]\n",
      " [5 6 9 1]\n",
      " [8 5 6 6]]\n"
     ]
    }
   ],
   "source": [
    "\n",
    "#ignore this line\n",
    "arr = np.random.randint(1,10,(4,4))\n",
    "print (arr)\n",
    "print ()\n",
    "print (\"array2\")\n",
    "print ()\n",
    "arr2 = np.random.randint(1,10,(4,4))\n",
    "print (arr2)"
   ]
  },
  {
   "cell_type": "code",
   "execution_count": 15,
   "metadata": {},
   "outputs": [
    {
     "name": "stdout",
     "output_type": "stream",
     "text": [
      "sum is69\n",
      "sum along row is [25 13 18 13]\n",
      "sum along columns [15 20 16 18]\n",
      "[[2 9 1 3]\n",
      " [6 1 6 7]\n",
      " [9 2 3 2]\n",
      " [8 1 8 1]]\n",
      "after adding\n",
      "[[ 4 11  3  5]\n",
      " [ 8  3  8  9]\n",
      " [11  4  5  4]\n",
      " [10  3 10  3]]\n",
      "transpose is\n",
      "[[2 6 9 8]\n",
      " [9 1 2 1]\n",
      " [1 6 3 8]\n",
      " [3 7 2 1]]\n"
     ]
    }
   ],
   "source": [
    "#math op on 2d array\n",
    "#let's get the sum of all elements in arr\n",
    "print (\"sum is\" + str(np.sum(arr)))\n",
    "\n",
    "# sum for all element in a row\n",
    "print (\"sum along row is\", end = \" \") \n",
    "print (np.sum(arr, axis=0))\n",
    "\n",
    "print (\"sum along columns\", end = \" \")\n",
    "print (np.sum(arr,axis=1))\n",
    "\n",
    "#add a constant value to all elements of the matrix\n",
    "print (arr)\n",
    "print (\"after adding\")\n",
    "print (arr+2)\n",
    "\n",
    "#how to calculate transpose of a matrix\n",
    "print (\"transpose is\")\n",
    "print (arr.T)"
   ]
  },
  {
   "cell_type": "code",
   "execution_count": 16,
   "metadata": {},
   "outputs": [
    {
     "name": "stdout",
     "output_type": "stream",
     "text": [
      "addition is\n",
      "[[10 14  6  8]\n",
      " [15 10 13 16]\n",
      " [14  8 12  3]\n",
      " [16  6 14  7]]\n"
     ]
    }
   ],
   "source": [
    "#let's see sum maths operation on 2d array\n",
    "#let's add the array\n",
    "total = arr + arr2\n",
    "print (\"addition is\")\n",
    "print (total)\n"
   ]
  },
  {
   "cell_type": "code",
   "execution_count": 17,
   "metadata": {},
   "outputs": [
    {
     "name": "stdout",
     "output_type": "stream",
     "text": [
      "[[2 9 1 3]\n",
      " [6 1 6 7]\n",
      " [9 2 3 2]\n",
      " [8 1 8 1]]\n",
      "\n",
      "[[8 5 5 5]\n",
      " [9 9 7 9]\n",
      " [5 6 9 1]\n",
      " [8 5 6 6]]\n"
     ]
    }
   ],
   "source": [
    "\n",
    "#dot product of two matrix\n",
    "print (arr)\n",
    "print ()\n",
    "print (arr2)\n"
   ]
  },
  {
   "cell_type": "code",
   "execution_count": 18,
   "metadata": {},
   "outputs": [
    {
     "name": "stdout",
     "output_type": "stream",
     "text": [
      "[[126 112 100 110]\n",
      " [143 110 133  87]\n",
      " [121  91  98  78]\n",
      " [121 102 125  63]]\n"
     ]
    }
   ],
   "source": [
    "#dimension of arr and arr2(4X4)\n",
    "print (np.dot(arr,arr2))"
   ]
  },
  {
   "cell_type": "code",
   "execution_count": 19,
   "metadata": {},
   "outputs": [
    {
     "name": "stdout",
     "output_type": "stream",
     "text": [
      "[[1.]\n",
      " [1.]\n",
      " [1.]\n",
      " [1.]]\n",
      "\n",
      "[[2 9 1 3]\n",
      " [6 1 6 7]\n",
      " [9 2 3 2]\n",
      " [8 1 8 1]]\n",
      "\n",
      "[[1. 2. 9. 1. 3.]\n",
      " [1. 6. 1. 6. 7.]\n",
      " [1. 9. 2. 3. 2.]\n",
      " [1. 8. 1. 8. 1.]]\n"
     ]
    }
   ],
   "source": [
    "#slicing op internet\n",
    "\n",
    "#one last complex function \n",
    "#hstack and vstack\n",
    "# add a column vector in existing array\n",
    "#make a column vector\n",
    "col = np.ones((4,1))\n",
    "print (col)\n",
    "print ()\n",
    "print (arr)\n",
    "\n",
    "#let's add this column vector as our first column in the arr\n",
    "\n",
    "newarr = np.hstack((col,arr))\n",
    "print ()\n",
    "print (newarr)"
   ]
  },
  {
   "cell_type": "code",
   "execution_count": 20,
   "metadata": {},
   "outputs": [
    {
     "name": "stdout",
     "output_type": "stream",
     "text": [
      "[[1. 1. 1. 1.]\n",
      " [2. 9. 1. 3.]\n",
      " [6. 1. 6. 7.]\n",
      " [9. 2. 3. 2.]\n",
      " [8. 1. 8. 1.]]\n"
     ]
    }
   ],
   "source": [
    "#similarly vstack\n",
    "row = np.ones((1,4))\n",
    "print (np.vstack((row,arr)))"
   ]
  },
  {
   "cell_type": "markdown",
   "metadata": {},
   "source": [
    "## List of numpy functions"
   ]
  },
  {
   "cell_type": "code",
   "execution_count": 21,
   "metadata": {},
   "outputs": [],
   "source": [
    "#create an empty array\n",
    "emptyArr = np.array([])\n",
    "\n",
    "#lets append some values\n",
    "arr = np.append(emptyArr,1)\n",
    "arr = np.append(arr,2)\n",
    "arr = np.append(arr,3)\n",
    "#now check the dimension of the array\n",
    "arr.shape\n",
    "\n",
    "#let's do some maths operation on our array\n",
    "#calcualte the sum\n",
    "total = np.sum(arr)\n",
    "\n",
    "#square root of individual elemets\n",
    "sqr = np.sqrt(arr)\n",
    "\n",
    "#create two arrays using another way\n",
    "ar1 = [1,2,3,4,5]\n",
    "ar2 = [6,7,8,9,10]\n",
    "# now make the numpy array\n",
    "arr1 = np.array(ar1)\n",
    "arr2 = np.array(ar2)\n",
    "\n",
    "#let's to vector operation \n",
    "#add the two vector\n",
    "add = np.add(arr1,arr2)\n",
    "\n",
    "#substract the two vector\n",
    "sub = np.subtract(arr1,arr2)\n",
    "\n",
    "#take the element wise multiplcation\n",
    "prod = np.multiply(arr1, arr2)\n",
    "\n",
    "#or\n",
    "prod = arr1 * arr2\n",
    "\n",
    "#generate array of zeros\n",
    "zeros = np.zeros(4) # take the dimension of array you want to create\n",
    "ones = np.ones(7)\n",
    "\n",
    "\n",
    "#creates 2d matrix of zeros\n",
    "zeros = np.zeros((4,4))\n",
    "#ignore this line\n",
    "arr = np.random.randint(1,10,(4,4))\n",
    "arr2 = np.random.randint(1,10,(4,4))\n",
    "\n",
    "\n",
    "#math op on 2d array\n",
    "#let's get the sum of all elements in arr\n",
    "np.sum(arr)\n",
    "\n",
    "\n",
    "#sum for all element in a row\n",
    "np.sum(arr, axis=0)\n",
    "#print \"sum along columns\"\n",
    "np.sum(arr,axis=1)\n",
    "\n",
    "\n",
    "#add a constant value to all elements of the matrix\n",
    "#arr\n",
    "#arr+2\n",
    "\n",
    "#how to calculate transpose of a matrix\n",
    "arr.T\n",
    "\n",
    "\n",
    "#let's see sum maths operation on 2d array\n",
    "#let's add the array\n",
    "total = arr + arr2\n",
    "\n",
    "#dimension of arr and arr2(4X4)\n",
    "np.dot(arr,arr2)\n",
    "\n",
    "#one last complex function \n",
    "#hstack and vstack\n",
    "# add a column vector in existing array\n",
    "#make a column vector\n",
    "col = np.ones((4,1))\n",
    "#let's add this column vector as our first column in the arr\n",
    "newarr = np.hstack((col,arr))\n",
    "\n",
    "#similarly vstack\n",
    "row = np.ones((1,4))\n",
    "newarr = np.vstack((row,arr))\n",
    "\n",
    "\n"
   ]
  },
  {
   "cell_type": "markdown",
   "metadata": {},
   "source": [
    "## Enough preknowledge let's go to coding"
   ]
  }
 ],
 "metadata": {
  "kernelspec": {
   "display_name": "Python 3",
   "language": "python",
   "name": "python3"
  },
  "language_info": {
   "codemirror_mode": {
    "name": "ipython",
    "version": 3
   },
   "file_extension": ".py",
   "mimetype": "text/x-python",
   "name": "python",
   "nbconvert_exporter": "python",
   "pygments_lexer": "ipython3",
   "version": "3.6.0"
  }
 },
 "nbformat": 4,
 "nbformat_minor": 1
}
